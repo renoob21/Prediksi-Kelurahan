{
 "cells": [
  {
   "cell_type": "code",
   "execution_count": 1,
   "id": "4003ca95",
   "metadata": {},
   "outputs": [
    {
     "name": "stderr",
     "output_type": "stream",
     "text": [
      "2022-09-15 09:36:21.954 INFO    numexpr.utils: NumExpr defaulting to 8 threads.\n"
     ]
    }
   ],
   "source": [
    "import streamlit as st"
   ]
  },
  {
   "cell_type": "code",
   "execution_count": 2,
   "id": "cb49cb38",
   "metadata": {},
   "outputs": [
    {
     "name": "stderr",
     "output_type": "stream",
     "text": [
      "2022-09-15 09:36:36.086 \n",
      "  \u001b[33m\u001b[1mWarning:\u001b[0m to view this Streamlit app on a browser, run it with the following\n",
      "  command:\n",
      "\n",
      "    streamlit run C:\\Users\\renoi\\anaconda3\\lib\\site-packages\\ipykernel_launcher.py [ARGUMENTS]\n"
     ]
    }
   ],
   "source": [
    "st.write('Reno Iqbalsah')"
   ]
  },
  {
   "cell_type": "code",
   "execution_count": 3,
   "id": "98c013aa",
   "metadata": {},
   "outputs": [],
   "source": [
    "import joblib\n"
   ]
  },
  {
   "cell_type": "code",
   "execution_count": 12,
   "id": "fa0d07dc",
   "metadata": {},
   "outputs": [],
   "source": [
    "from sklearn.pipeline import Pipeline\n",
    "from sklearn.feature_extraction.text import CountVectorizer\n",
    "from sklearn.feature_extraction.text import TfidfTransformer\n",
    "from sklearn.naive_bayes import MultinomialNB\n",
    "import string"
   ]
  },
  {
   "cell_type": "code",
   "execution_count": 13,
   "id": "3b7e0c6a",
   "metadata": {},
   "outputs": [],
   "source": [
    "def clear_text(alamat):\n",
    "    nopunc = []\n",
    "    for char in alamat:\n",
    "        if char not in string.punctuation:\n",
    "            nopunc.append(char)\n",
    "        else:\n",
    "            nopunc.append(' ')\n",
    "            continue\n",
    "    nopunc = ''.join(nopunc)\n",
    "    return nopunc.split()"
   ]
  },
  {
   "cell_type": "code",
   "execution_count": 14,
   "id": "d3484080",
   "metadata": {},
   "outputs": [],
   "source": [
    "model = joblib.load('kelurahan_model.sav')"
   ]
  },
  {
   "cell_type": "code",
   "execution_count": 15,
   "id": "9a1b6ea3",
   "metadata": {},
   "outputs": [
    {
     "data": {
      "text/plain": [
       "array(['SEMPER BARAT'], dtype='<U18')"
      ]
     },
     "execution_count": 15,
     "metadata": {},
     "output_type": "execute_result"
    }
   ],
   "source": [
    "model.predict(['Jalan mawar 1'])"
   ]
  },
  {
   "cell_type": "code",
   "execution_count": null,
   "id": "74ee2817",
   "metadata": {},
   "outputs": [],
   "source": []
  }
 ],
 "metadata": {
  "kernelspec": {
   "display_name": "Python 3 (ipykernel)",
   "language": "python",
   "name": "python3"
  },
  "language_info": {
   "codemirror_mode": {
    "name": "ipython",
    "version": 3
   },
   "file_extension": ".py",
   "mimetype": "text/x-python",
   "name": "python",
   "nbconvert_exporter": "python",
   "pygments_lexer": "ipython3",
   "version": "3.9.7"
  }
 },
 "nbformat": 4,
 "nbformat_minor": 5
}
