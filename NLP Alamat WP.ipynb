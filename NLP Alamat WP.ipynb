{
 "cells": [
  {
   "cell_type": "code",
   "execution_count": 1,
   "id": "1f13f5de",
   "metadata": {},
   "outputs": [],
   "source": [
    "import numpy as np\n",
    "import pandas as pd"
   ]
  },
  {
   "cell_type": "markdown",
   "id": "246902da",
   "metadata": {},
   "source": [
    "# Import the Data"
   ]
  },
  {
   "cell_type": "code",
   "execution_count": 2,
   "id": "5287cbe3",
   "metadata": {},
   "outputs": [],
   "source": [
    "alamat = pd.read_excel(\"Alamat dan Kelurahan.xlsx\")"
   ]
  },
  {
   "cell_type": "code",
   "execution_count": 3,
   "id": "29a9c5dc",
   "metadata": {},
   "outputs": [
    {
     "data": {
      "text/html": [
       "<div>\n",
       "<style scoped>\n",
       "    .dataframe tbody tr th:only-of-type {\n",
       "        vertical-align: middle;\n",
       "    }\n",
       "\n",
       "    .dataframe tbody tr th {\n",
       "        vertical-align: top;\n",
       "    }\n",
       "\n",
       "    .dataframe thead th {\n",
       "        text-align: right;\n",
       "    }\n",
       "</style>\n",
       "<table border=\"1\" class=\"dataframe\">\n",
       "  <thead>\n",
       "    <tr style=\"text-align: right;\">\n",
       "      <th></th>\n",
       "      <th>jalan</th>\n",
       "      <th>nm_kelurahan</th>\n",
       "    </tr>\n",
       "  </thead>\n",
       "  <tbody>\n",
       "    <tr>\n",
       "      <th>0</th>\n",
       "      <td>RUSUNAWA</td>\n",
       "      <td>MARUNDA</td>\n",
       "    </tr>\n",
       "    <tr>\n",
       "      <th>1</th>\n",
       "      <td>~KALIBARU BARAT NO. 22 RT. 005 RW. 005</td>\n",
       "      <td>KALIBARU</td>\n",
       "    </tr>\n",
       "    <tr>\n",
       "      <th>2</th>\n",
       "      <td>JL. MALAKA JAYA NO.4 RT. 005 RW. 011</td>\n",
       "      <td>ROROTAN</td>\n",
       "    </tr>\n",
       "    <tr>\n",
       "      <th>3</th>\n",
       "      <td>PD.PASAR JAYA A.L00.ATD.070, RAWABADAK</td>\n",
       "      <td>RAWA BADAK UTARA</td>\n",
       "    </tr>\n",
       "    <tr>\n",
       "      <th>4</th>\n",
       "      <td>ASRAMA DKI BLOK B NO. 18 RT. 004 RW. 003</td>\n",
       "      <td>SEMPER BARAT</td>\n",
       "    </tr>\n",
       "  </tbody>\n",
       "</table>\n",
       "</div>"
      ],
      "text/plain": [
       "                                      jalan      nm_kelurahan\n",
       "0                                  RUSUNAWA           MARUNDA\n",
       "1    ~KALIBARU BARAT NO. 22 RT. 005 RW. 005          KALIBARU\n",
       "2      JL. MALAKA JAYA NO.4 RT. 005 RW. 011           ROROTAN\n",
       "3    PD.PASAR JAYA A.L00.ATD.070, RAWABADAK  RAWA BADAK UTARA\n",
       "4  ASRAMA DKI BLOK B NO. 18 RT. 004 RW. 003      SEMPER BARAT"
      ]
     },
     "execution_count": 3,
     "metadata": {},
     "output_type": "execute_result"
    }
   ],
   "source": [
    "alamat.head()"
   ]
  },
  {
   "cell_type": "code",
   "execution_count": 4,
   "id": "48e53b3a",
   "metadata": {},
   "outputs": [
    {
     "data": {
      "text/html": [
       "<div>\n",
       "<style scoped>\n",
       "    .dataframe tbody tr th:only-of-type {\n",
       "        vertical-align: middle;\n",
       "    }\n",
       "\n",
       "    .dataframe tbody tr th {\n",
       "        vertical-align: top;\n",
       "    }\n",
       "\n",
       "    .dataframe thead th {\n",
       "        text-align: right;\n",
       "    }\n",
       "</style>\n",
       "<table border=\"1\" class=\"dataframe\">\n",
       "  <thead>\n",
       "    <tr style=\"text-align: right;\">\n",
       "      <th></th>\n",
       "      <th>jalan</th>\n",
       "      <th>nm_kelurahan</th>\n",
       "    </tr>\n",
       "  </thead>\n",
       "  <tbody>\n",
       "    <tr>\n",
       "      <th>count</th>\n",
       "      <td>330150</td>\n",
       "      <td>330182</td>\n",
       "    </tr>\n",
       "    <tr>\n",
       "      <th>unique</th>\n",
       "      <td>182708</td>\n",
       "      <td>13</td>\n",
       "    </tr>\n",
       "    <tr>\n",
       "      <th>top</th>\n",
       "      <td>RUSUNAWA MARUNDA</td>\n",
       "      <td>TUGU UTARA</td>\n",
       "    </tr>\n",
       "    <tr>\n",
       "      <th>freq</th>\n",
       "      <td>1103</td>\n",
       "      <td>40129</td>\n",
       "    </tr>\n",
       "  </tbody>\n",
       "</table>\n",
       "</div>"
      ],
      "text/plain": [
       "                   jalan nm_kelurahan\n",
       "count             330150       330182\n",
       "unique            182708           13\n",
       "top     RUSUNAWA MARUNDA   TUGU UTARA\n",
       "freq                1103        40129"
      ]
     },
     "execution_count": 4,
     "metadata": {},
     "output_type": "execute_result"
    }
   ],
   "source": [
    "alamat.describe()"
   ]
  },
  {
   "cell_type": "code",
   "execution_count": 5,
   "id": "dc6161bc",
   "metadata": {},
   "outputs": [],
   "source": [
    "contoh = 'jl lembayung senja,nomor 27'"
   ]
  },
  {
   "cell_type": "code",
   "execution_count": 6,
   "id": "b36be838",
   "metadata": {},
   "outputs": [],
   "source": [
    "import string\n",
    "\n",
    "nopunc = []\n",
    "\n",
    "for char in contoh:\n",
    "    if char not in string.punctuation:\n",
    "        nopunc.append(char)\n",
    "    else :\n",
    "        nopunc.append(' ')\n",
    "        continue"
   ]
  },
  {
   "cell_type": "code",
   "execution_count": 7,
   "id": "fdfd7030",
   "metadata": {},
   "outputs": [],
   "source": [
    "nopunc = ''.join(nopunc)"
   ]
  },
  {
   "cell_type": "code",
   "execution_count": 8,
   "id": "e6ab441c",
   "metadata": {},
   "outputs": [
    {
     "data": {
      "text/plain": [
       "'jl lembayung senja nomor 27'"
      ]
     },
     "execution_count": 8,
     "metadata": {},
     "output_type": "execute_result"
    }
   ],
   "source": [
    "nopunc"
   ]
  },
  {
   "cell_type": "code",
   "execution_count": 9,
   "id": "7111c863",
   "metadata": {},
   "outputs": [
    {
     "data": {
      "text/plain": [
       "['jl', 'lembayung', 'senja', 'nomor', '27']"
      ]
     },
     "execution_count": 9,
     "metadata": {},
     "output_type": "execute_result"
    }
   ],
   "source": [
    "nopunc.split()"
   ]
  },
  {
   "cell_type": "markdown",
   "id": "530cd8a4",
   "metadata": {},
   "source": [
    "# Text Pre Processing"
   ]
  },
  {
   "cell_type": "code",
   "execution_count": 10,
   "id": "aea3dd26",
   "metadata": {},
   "outputs": [],
   "source": [
    "def clear_text(alamat):\n",
    "    nopunc = []\n",
    "    for char in alamat:\n",
    "        if char not in string.punctuation:\n",
    "            nopunc.append(char)\n",
    "        else:\n",
    "            nopunc.append(' ')\n",
    "            continue\n",
    "    nopunc = ''.join(nopunc)\n",
    "    return nopunc.split()"
   ]
  },
  {
   "cell_type": "code",
   "execution_count": 11,
   "id": "51d5342a",
   "metadata": {},
   "outputs": [
    {
     "data": {
      "text/plain": [
       "['jl', 'lembayung', 'senja', 'nomor', '27']"
      ]
     },
     "execution_count": 11,
     "metadata": {},
     "output_type": "execute_result"
    }
   ],
   "source": [
    "clear_text(contoh)"
   ]
  },
  {
   "cell_type": "code",
   "execution_count": 12,
   "id": "5897db4c",
   "metadata": {},
   "outputs": [],
   "source": [
    "X = alamat['jalan'].apply(str)"
   ]
  },
  {
   "cell_type": "code",
   "execution_count": 13,
   "id": "bbff8314",
   "metadata": {},
   "outputs": [
    {
     "data": {
      "text/plain": [
       "0                                                RUSUNAWA\n",
       "1                  ~KALIBARU BARAT NO. 22 RT. 005 RW. 005\n",
       "2                    JL. MALAKA JAYA NO.4 RT. 005 RW. 011\n",
       "3                  PD.PASAR JAYA A.L00.ATD.070, RAWABADAK\n",
       "4                ASRAMA DKI BLOK B NO. 18 RT. 004 RW. 003\n",
       "                               ...                       \n",
       "330177                              JALAN MANTANG GANG IV\n",
       "330178                                 JL F GG G 1 .NO:32\n",
       "330179    RUSUN SUKAPURA JL. MANUNGGAL JUANG II LT.3 NO.5\n",
       "330180                                         ASRAMA DKI\n",
       "330181                                 KP.BULAK JL.KURNIA\n",
       "Name: jalan, Length: 330182, dtype: object"
      ]
     },
     "execution_count": 13,
     "metadata": {},
     "output_type": "execute_result"
    }
   ],
   "source": [
    "X"
   ]
  },
  {
   "cell_type": "code",
   "execution_count": 14,
   "id": "a282a9f9",
   "metadata": {},
   "outputs": [],
   "source": [
    "y = alamat['nm_kelurahan']"
   ]
  },
  {
   "cell_type": "markdown",
   "id": "a7e802ff",
   "metadata": {},
   "source": [
    "# Train Test Split"
   ]
  },
  {
   "cell_type": "code",
   "execution_count": 15,
   "id": "ef46cc6c",
   "metadata": {},
   "outputs": [
    {
     "name": "stderr",
     "output_type": "stream",
     "text": [
      "C:\\Users\\renoi\\anaconda3\\lib\\site-packages\\scipy\\__init__.py:146: UserWarning: A NumPy version >=1.16.5 and <1.23.0 is required for this version of SciPy (detected version 1.23.3\n",
      "  warnings.warn(f\"A NumPy version >={np_minversion} and <{np_maxversion}\"\n"
     ]
    }
   ],
   "source": [
    "from sklearn.model_selection import train_test_split"
   ]
  },
  {
   "cell_type": "code",
   "execution_count": 16,
   "id": "148cc08d",
   "metadata": {},
   "outputs": [],
   "source": [
    "X_train, X_test, y_train, y_test = train_test_split(X, y, test_size=0.2)"
   ]
  },
  {
   "cell_type": "markdown",
   "id": "5184670e",
   "metadata": {},
   "source": [
    "# Training the Model"
   ]
  },
  {
   "cell_type": "code",
   "execution_count": 17,
   "id": "02298c8d",
   "metadata": {},
   "outputs": [],
   "source": [
    "from sklearn.feature_extraction.text import CountVectorizer\n",
    "from sklearn.feature_extraction.text import TfidfTransformer\n",
    "from sklearn.naive_bayes import MultinomialNB"
   ]
  },
  {
   "cell_type": "code",
   "execution_count": 18,
   "id": "1721ce8b",
   "metadata": {},
   "outputs": [],
   "source": [
    "from sklearn.pipeline import Pipeline\n",
    "\n",
    "kelurahan_model = Pipeline([\n",
    "    ('bow', CountVectorizer(analyzer=clear_text)),  # strings to token integer counts\n",
    "    ('tfidf', TfidfTransformer()),  # integer counts to weighted TF-IDF scores\n",
    "    ('classifier', MultinomialNB()),  # train on TF-IDF vectors w/ Naive Bayes classifier\n",
    "])"
   ]
  },
  {
   "cell_type": "code",
   "execution_count": 19,
   "id": "1104f375",
   "metadata": {},
   "outputs": [
    {
     "data": {
      "text/plain": [
       "Pipeline(steps=[('bow',\n",
       "                 CountVectorizer(analyzer=<function clear_text at 0x000002D3EDD873A0>)),\n",
       "                ('tfidf', TfidfTransformer()),\n",
       "                ('classifier', MultinomialNB())])"
      ]
     },
     "execution_count": 19,
     "metadata": {},
     "output_type": "execute_result"
    }
   ],
   "source": [
    "kelurahan_model.fit(X_train,y_train)"
   ]
  },
  {
   "cell_type": "code",
   "execution_count": 20,
   "id": "47b51fb6",
   "metadata": {},
   "outputs": [],
   "source": [
    "pred = kelurahan_model.predict(X_test)"
   ]
  },
  {
   "cell_type": "code",
   "execution_count": 21,
   "id": "6cf5cc94",
   "metadata": {},
   "outputs": [],
   "source": [
    "from sklearn.metrics import classification_report, confusion_matrix"
   ]
  },
  {
   "cell_type": "code",
   "execution_count": 22,
   "id": "115be486",
   "metadata": {},
   "outputs": [
    {
     "name": "stdout",
     "output_type": "stream",
     "text": [
      "[[3515  110    2    9   32    1   67   33   73   73   51    1   20]\n",
      " [  51 5845    1    3    0    1    9    2    6    2   11    0    2]\n",
      " [   3    6 2572   25    0   16   93    0   10    1    3   34   56]\n",
      " [  40    7   11 5937    2    1   53    0  101    2    7   41  228]\n",
      " [  81    3    0    1 2447    2    8    8    7    1    9    1   16]\n",
      " [   6    3    5    9    0 1452  534    0    1    1    2  423   89]\n",
      " [   5    4   38  134    1   53 5487    1   44    2    5  310  221]\n",
      " [  11    2    0    4    5    0    7 4057    6    1   19    0   18]\n",
      " [  23    7    8   95    2    1   51    4 7389   37  318    8  179]\n",
      " [  23    4    0    6    5    2   26    2  146 3857   36    3   13]\n",
      " [  17   10    0    8    9    4   29    9   48    9 7008    4   34]\n",
      " [   5    4    8    3    0  101  132    1   18    6   18 3442  178]\n",
      " [   1    5    6  111    1   20   76    4   90    1    7  120 7532]]\n",
      "\n",
      "\n",
      "                    precision    recall  f1-score   support\n",
      "\n",
      "         CILINCING       0.93      0.88      0.90      3987\n",
      "          KALIBARU       0.97      0.99      0.98      5933\n",
      "              KOJA       0.97      0.91      0.94      2819\n",
      "             LAGOA       0.94      0.92      0.93      6430\n",
      "           MARUNDA       0.98      0.95      0.96      2584\n",
      "RAWA BADAK SELATAN       0.88      0.58      0.69      2525\n",
      "  RAWA BADAK UTARA       0.83      0.87      0.85      6305\n",
      "           ROROTAN       0.98      0.98      0.98      4130\n",
      "      SEMPER BARAT       0.93      0.91      0.92      8122\n",
      "      SEMPER TIMUR       0.97      0.94      0.95      4123\n",
      "          SUKAPURA       0.94      0.97      0.95      7189\n",
      "      TUGU SELATAN       0.78      0.88      0.83      3916\n",
      "        TUGU UTARA       0.88      0.94      0.91      7974\n",
      "\n",
      "          accuracy                           0.92     66037\n",
      "         macro avg       0.92      0.90      0.91     66037\n",
      "      weighted avg       0.92      0.92      0.92     66037\n",
      "\n"
     ]
    }
   ],
   "source": [
    "print(confusion_matrix(y_test,pred))\n",
    "print('\\n')\n",
    "print(classification_report(y_test,pred))"
   ]
  },
  {
   "cell_type": "markdown",
   "id": "2c02fd22",
   "metadata": {},
   "source": [
    "# Terapkan pada SE-53"
   ]
  },
  {
   "cell_type": "code",
   "execution_count": 23,
   "id": "e9774da5",
   "metadata": {},
   "outputs": [],
   "source": [
    "validasi = pd.read_excel('045_SE-53 KPP KOJA.xlsx',index_col=0)"
   ]
  },
  {
   "cell_type": "code",
   "execution_count": 24,
   "id": "b48c374e",
   "metadata": {},
   "outputs": [
    {
     "data": {
      "text/html": [
       "<div>\n",
       "<style scoped>\n",
       "    .dataframe tbody tr th:only-of-type {\n",
       "        vertical-align: middle;\n",
       "    }\n",
       "\n",
       "    .dataframe tbody tr th {\n",
       "        vertical-align: top;\n",
       "    }\n",
       "\n",
       "    .dataframe thead th {\n",
       "        text-align: right;\n",
       "    }\n",
       "</style>\n",
       "<table border=\"1\" class=\"dataframe\">\n",
       "  <thead>\n",
       "    <tr style=\"text-align: right;\">\n",
       "      <th></th>\n",
       "      <th>ALAMAT</th>\n",
       "      <th>JALAN</th>\n",
       "      <th>KELURAHAN</th>\n",
       "      <th>KECAMATAN</th>\n",
       "      <th>KOTA</th>\n",
       "      <th>PROVINSI</th>\n",
       "      <th>JALAN.1</th>\n",
       "      <th>KELURAHAN.1</th>\n",
       "    </tr>\n",
       "    <tr>\n",
       "      <th>NPWP</th>\n",
       "      <th></th>\n",
       "      <th></th>\n",
       "      <th></th>\n",
       "      <th></th>\n",
       "      <th></th>\n",
       "      <th></th>\n",
       "      <th></th>\n",
       "      <th></th>\n",
       "    </tr>\n",
       "  </thead>\n",
       "  <tbody>\n",
       "    <tr>\n",
       "      <th>575072129045000</th>\n",
       "      <td>JL CIPEUCANG IV NO 31, KOJA</td>\n",
       "      <td>JALAN CIPEUCANG</td>\n",
       "      <td>KOJA</td>\n",
       "      <td>NaN</td>\n",
       "      <td>NaN</td>\n",
       "      <td>NaN</td>\n",
       "      <td>JL CIPEUCANG IV</td>\n",
       "      <td>NaN</td>\n",
       "    </tr>\n",
       "    <tr>\n",
       "      <th>575100359045000</th>\n",
       "      <td>KESATRIAN NO  10, CILINCING</td>\n",
       "      <td>NaN</td>\n",
       "      <td>NaN</td>\n",
       "      <td>NaN</td>\n",
       "      <td>NaN</td>\n",
       "      <td>NaN</td>\n",
       "      <td>KESATRIAN</td>\n",
       "      <td>NaN</td>\n",
       "    </tr>\n",
       "    <tr>\n",
       "      <th>575124631045000</th>\n",
       "      <td>LORONG BLOK II G NO 19, KOJA</td>\n",
       "      <td>LORONG BLO</td>\n",
       "      <td>KOJA</td>\n",
       "      <td>NaN</td>\n",
       "      <td>NaN</td>\n",
       "      <td>NaN</td>\n",
       "      <td>LORONG</td>\n",
       "      <td>NaN</td>\n",
       "    </tr>\n",
       "    <tr>\n",
       "      <th>575125091045000</th>\n",
       "      <td>KP PEDONGKELAN NO 0, CILINCING</td>\n",
       "      <td>NaN</td>\n",
       "      <td>NaN</td>\n",
       "      <td>NaN</td>\n",
       "      <td>NaN</td>\n",
       "      <td>NaN</td>\n",
       "      <td>KP PEDONGKELAN</td>\n",
       "      <td>NaN</td>\n",
       "    </tr>\n",
       "    <tr>\n",
       "      <th>575125513045000</th>\n",
       "      <td>JL DELI LORONG NO 4, KOJA</td>\n",
       "      <td>LORONG NO</td>\n",
       "      <td>KOJA</td>\n",
       "      <td>NaN</td>\n",
       "      <td>NaN</td>\n",
       "      <td>NaN</td>\n",
       "      <td>JL DELI LORONG</td>\n",
       "      <td>NaN</td>\n",
       "    </tr>\n",
       "  </tbody>\n",
       "</table>\n",
       "</div>"
      ],
      "text/plain": [
       "                                         ALAMAT            JALAN KELURAHAN  \\\n",
       "NPWP                                                                         \n",
       "575072129045000     JL CIPEUCANG IV NO 31, KOJA  JALAN CIPEUCANG      KOJA   \n",
       "575100359045000     KESATRIAN NO  10, CILINCING              NaN       NaN   \n",
       "575124631045000    LORONG BLOK II G NO 19, KOJA       LORONG BLO      KOJA   \n",
       "575125091045000  KP PEDONGKELAN NO 0, CILINCING              NaN       NaN   \n",
       "575125513045000       JL DELI LORONG NO 4, KOJA       LORONG NO       KOJA   \n",
       "\n",
       "                 KECAMATAN  KOTA  PROVINSI           JALAN.1  KELURAHAN.1  \n",
       "NPWP                                                                       \n",
       "575072129045000        NaN   NaN       NaN  JL CIPEUCANG IV           NaN  \n",
       "575100359045000        NaN   NaN       NaN        KESATRIAN           NaN  \n",
       "575124631045000        NaN   NaN       NaN           LORONG           NaN  \n",
       "575125091045000        NaN   NaN       NaN   KP PEDONGKELAN           NaN  \n",
       "575125513045000        NaN   NaN       NaN   JL DELI LORONG           NaN  "
      ]
     },
     "execution_count": 24,
     "metadata": {},
     "output_type": "execute_result"
    }
   ],
   "source": [
    "validasi.head()"
   ]
  },
  {
   "cell_type": "code",
   "execution_count": 25,
   "id": "dd34250d",
   "metadata": {},
   "outputs": [],
   "source": [
    "validasi['KELURAHAN_FIX'] = kelurahan_model.predict(validasi['ALAMAT'].apply(str))"
   ]
  },
  {
   "cell_type": "code",
   "execution_count": 26,
   "id": "e306ce6e",
   "metadata": {},
   "outputs": [
    {
     "data": {
      "text/html": [
       "<div>\n",
       "<style scoped>\n",
       "    .dataframe tbody tr th:only-of-type {\n",
       "        vertical-align: middle;\n",
       "    }\n",
       "\n",
       "    .dataframe tbody tr th {\n",
       "        vertical-align: top;\n",
       "    }\n",
       "\n",
       "    .dataframe thead th {\n",
       "        text-align: right;\n",
       "    }\n",
       "</style>\n",
       "<table border=\"1\" class=\"dataframe\">\n",
       "  <thead>\n",
       "    <tr style=\"text-align: right;\">\n",
       "      <th></th>\n",
       "      <th>ALAMAT</th>\n",
       "      <th>JALAN</th>\n",
       "      <th>KELURAHAN</th>\n",
       "      <th>KECAMATAN</th>\n",
       "      <th>KOTA</th>\n",
       "      <th>PROVINSI</th>\n",
       "      <th>JALAN.1</th>\n",
       "      <th>KELURAHAN.1</th>\n",
       "      <th>KELURAHAN_FIX</th>\n",
       "    </tr>\n",
       "    <tr>\n",
       "      <th>NPWP</th>\n",
       "      <th></th>\n",
       "      <th></th>\n",
       "      <th></th>\n",
       "      <th></th>\n",
       "      <th></th>\n",
       "      <th></th>\n",
       "      <th></th>\n",
       "      <th></th>\n",
       "      <th></th>\n",
       "    </tr>\n",
       "  </thead>\n",
       "  <tbody>\n",
       "    <tr>\n",
       "      <th>575072129045000</th>\n",
       "      <td>JL CIPEUCANG IV NO 31, KOJA</td>\n",
       "      <td>JALAN CIPEUCANG</td>\n",
       "      <td>KOJA</td>\n",
       "      <td>NaN</td>\n",
       "      <td>NaN</td>\n",
       "      <td>NaN</td>\n",
       "      <td>JL CIPEUCANG IV</td>\n",
       "      <td>NaN</td>\n",
       "      <td>KOJA</td>\n",
       "    </tr>\n",
       "    <tr>\n",
       "      <th>575100359045000</th>\n",
       "      <td>KESATRIAN NO  10, CILINCING</td>\n",
       "      <td>NaN</td>\n",
       "      <td>NaN</td>\n",
       "      <td>NaN</td>\n",
       "      <td>NaN</td>\n",
       "      <td>NaN</td>\n",
       "      <td>KESATRIAN</td>\n",
       "      <td>NaN</td>\n",
       "      <td>CILINCING</td>\n",
       "    </tr>\n",
       "    <tr>\n",
       "      <th>575124631045000</th>\n",
       "      <td>LORONG BLOK II G NO 19, KOJA</td>\n",
       "      <td>LORONG BLO</td>\n",
       "      <td>KOJA</td>\n",
       "      <td>NaN</td>\n",
       "      <td>NaN</td>\n",
       "      <td>NaN</td>\n",
       "      <td>LORONG</td>\n",
       "      <td>NaN</td>\n",
       "      <td>KOJA</td>\n",
       "    </tr>\n",
       "    <tr>\n",
       "      <th>575125091045000</th>\n",
       "      <td>KP PEDONGKELAN NO 0, CILINCING</td>\n",
       "      <td>NaN</td>\n",
       "      <td>NaN</td>\n",
       "      <td>NaN</td>\n",
       "      <td>NaN</td>\n",
       "      <td>NaN</td>\n",
       "      <td>KP PEDONGKELAN</td>\n",
       "      <td>NaN</td>\n",
       "      <td>CILINCING</td>\n",
       "    </tr>\n",
       "    <tr>\n",
       "      <th>575125513045000</th>\n",
       "      <td>JL DELI LORONG NO 4, KOJA</td>\n",
       "      <td>LORONG NO</td>\n",
       "      <td>KOJA</td>\n",
       "      <td>NaN</td>\n",
       "      <td>NaN</td>\n",
       "      <td>NaN</td>\n",
       "      <td>JL DELI LORONG</td>\n",
       "      <td>NaN</td>\n",
       "      <td>KOJA</td>\n",
       "    </tr>\n",
       "  </tbody>\n",
       "</table>\n",
       "</div>"
      ],
      "text/plain": [
       "                                         ALAMAT            JALAN KELURAHAN  \\\n",
       "NPWP                                                                         \n",
       "575072129045000     JL CIPEUCANG IV NO 31, KOJA  JALAN CIPEUCANG      KOJA   \n",
       "575100359045000     KESATRIAN NO  10, CILINCING              NaN       NaN   \n",
       "575124631045000    LORONG BLOK II G NO 19, KOJA       LORONG BLO      KOJA   \n",
       "575125091045000  KP PEDONGKELAN NO 0, CILINCING              NaN       NaN   \n",
       "575125513045000       JL DELI LORONG NO 4, KOJA       LORONG NO       KOJA   \n",
       "\n",
       "                 KECAMATAN  KOTA  PROVINSI           JALAN.1  KELURAHAN.1  \\\n",
       "NPWP                                                                        \n",
       "575072129045000        NaN   NaN       NaN  JL CIPEUCANG IV           NaN   \n",
       "575100359045000        NaN   NaN       NaN        KESATRIAN           NaN   \n",
       "575124631045000        NaN   NaN       NaN           LORONG           NaN   \n",
       "575125091045000        NaN   NaN       NaN   KP PEDONGKELAN           NaN   \n",
       "575125513045000        NaN   NaN       NaN   JL DELI LORONG           NaN   \n",
       "\n",
       "                KELURAHAN_FIX  \n",
       "NPWP                           \n",
       "575072129045000          KOJA  \n",
       "575100359045000     CILINCING  \n",
       "575124631045000          KOJA  \n",
       "575125091045000     CILINCING  \n",
       "575125513045000          KOJA  "
      ]
     },
     "execution_count": 26,
     "metadata": {},
     "output_type": "execute_result"
    }
   ],
   "source": [
    "validasi.head()"
   ]
  },
  {
   "cell_type": "code",
   "execution_count": 27,
   "id": "9b69c4c1",
   "metadata": {},
   "outputs": [],
   "source": [
    "validasi.to_csv('SE-53 KPP 045.csv',sep=';')"
   ]
  },
  {
   "cell_type": "code",
   "execution_count": 28,
   "id": "34b70d54",
   "metadata": {},
   "outputs": [],
   "source": [
    "validasi.to_excel('SE-53 KPP 045.xlsx')"
   ]
  },
  {
   "cell_type": "code",
   "execution_count": 29,
   "id": "f0767da4",
   "metadata": {},
   "outputs": [
    {
     "data": {
      "text/plain": [
       "array(['SUKAPURA'], dtype='<U18')"
      ]
     },
     "execution_count": 29,
     "metadata": {},
     "output_type": "execute_result"
    }
   ],
   "source": [
    "kelurahan_model.predict(['RUSUN SUKAPURA JL. MANUNGGAL JUANG II LT.3 NO.5'])"
   ]
  },
  {
   "cell_type": "code",
   "execution_count": 30,
   "id": "5c701601",
   "metadata": {},
   "outputs": [
    {
     "data": {
      "text/plain": [
       "array(['TUGU UTARA'], dtype='<U18')"
      ]
     },
     "execution_count": 30,
     "metadata": {},
     "output_type": "execute_result"
    }
   ],
   "source": [
    "kelurahan_model.predict(['JL MAWAR VI'])"
   ]
  },
  {
   "cell_type": "code",
   "execution_count": 31,
   "id": "c421aae9",
   "metadata": {},
   "outputs": [
    {
     "data": {
      "text/plain": [
       "8877"
      ]
     },
     "execution_count": 31,
     "metadata": {},
     "output_type": "execute_result"
    }
   ],
   "source": [
    "len(validasi)"
   ]
  },
  {
   "cell_type": "code",
   "execution_count": 32,
   "id": "df4a184e",
   "metadata": {},
   "outputs": [],
   "source": [
    "import joblib"
   ]
  },
  {
   "cell_type": "code",
   "execution_count": 33,
   "id": "88803a15",
   "metadata": {},
   "outputs": [
    {
     "data": {
      "text/plain": [
       "['kelurahan_model.sav']"
      ]
     },
     "execution_count": 33,
     "metadata": {},
     "output_type": "execute_result"
    }
   ],
   "source": [
    "joblib.dump(kelurahan_model, 'kelurahan_model.sav')"
   ]
  },
  {
   "cell_type": "code",
   "execution_count": 40,
   "id": "20809c73",
   "metadata": {},
   "outputs": [],
   "source": [
    "load_model = joblib.load('kelurahan_model.sav')"
   ]
  },
  {
   "cell_type": "code",
   "execution_count": 37,
   "id": "a66a2659",
   "metadata": {},
   "outputs": [],
   "source": [
    "pred2 = load_model.predict(X_test)"
   ]
  },
  {
   "cell_type": "code",
   "execution_count": 38,
   "id": "2f15405b",
   "metadata": {},
   "outputs": [
    {
     "name": "stdout",
     "output_type": "stream",
     "text": [
      "                    precision    recall  f1-score   support\n",
      "\n",
      "         CILINCING       0.93      0.88      0.90      3987\n",
      "          KALIBARU       0.97      0.99      0.98      5933\n",
      "              KOJA       0.97      0.91      0.94      2819\n",
      "             LAGOA       0.94      0.92      0.93      6430\n",
      "           MARUNDA       0.98      0.95      0.96      2584\n",
      "RAWA BADAK SELATAN       0.88      0.58      0.69      2525\n",
      "  RAWA BADAK UTARA       0.83      0.87      0.85      6305\n",
      "           ROROTAN       0.98      0.98      0.98      4130\n",
      "      SEMPER BARAT       0.93      0.91      0.92      8122\n",
      "      SEMPER TIMUR       0.97      0.94      0.95      4123\n",
      "          SUKAPURA       0.94      0.97      0.95      7189\n",
      "      TUGU SELATAN       0.78      0.88      0.83      3916\n",
      "        TUGU UTARA       0.88      0.94      0.91      7974\n",
      "\n",
      "          accuracy                           0.92     66037\n",
      "         macro avg       0.92      0.90      0.91     66037\n",
      "      weighted avg       0.92      0.92      0.92     66037\n",
      "\n"
     ]
    }
   ],
   "source": [
    "print(classification_report(y_test,pred2))"
   ]
  },
  {
   "cell_type": "code",
   "execution_count": 39,
   "id": "c6dec4ec",
   "metadata": {},
   "outputs": [
    {
     "data": {
      "text/plain": [
       "'SEMPER BARAT'"
      ]
     },
     "execution_count": 39,
     "metadata": {},
     "output_type": "execute_result"
    }
   ],
   "source": [
    "pred[0]"
   ]
  },
  {
   "cell_type": "code",
   "execution_count": 41,
   "id": "d6fae813",
   "metadata": {},
   "outputs": [],
   "source": [
    "address = validasi['ALAMAT'].values"
   ]
  },
  {
   "cell_type": "code",
   "execution_count": 44,
   "id": "38933710",
   "metadata": {},
   "outputs": [],
   "source": [
    "preds = kelurahan_model.predict(address)"
   ]
  },
  {
   "cell_type": "code",
   "execution_count": 46,
   "id": "a7eaba8b",
   "metadata": {},
   "outputs": [
    {
     "data": {
      "text/html": [
       "<div>\n",
       "<style scoped>\n",
       "    .dataframe tbody tr th:only-of-type {\n",
       "        vertical-align: middle;\n",
       "    }\n",
       "\n",
       "    .dataframe tbody tr th {\n",
       "        vertical-align: top;\n",
       "    }\n",
       "\n",
       "    .dataframe thead th {\n",
       "        text-align: right;\n",
       "    }\n",
       "</style>\n",
       "<table border=\"1\" class=\"dataframe\">\n",
       "  <thead>\n",
       "    <tr style=\"text-align: right;\">\n",
       "      <th></th>\n",
       "      <th>Alamat</th>\n",
       "      <th>Kelurahan</th>\n",
       "    </tr>\n",
       "  </thead>\n",
       "  <tbody>\n",
       "    <tr>\n",
       "      <th>0</th>\n",
       "      <td>JL CIPEUCANG IV NO 31, KOJA</td>\n",
       "      <td>KOJA</td>\n",
       "    </tr>\n",
       "    <tr>\n",
       "      <th>1</th>\n",
       "      <td>KESATRIAN NO  10, CILINCING</td>\n",
       "      <td>CILINCING</td>\n",
       "    </tr>\n",
       "    <tr>\n",
       "      <th>2</th>\n",
       "      <td>LORONG BLOK II G NO 19, KOJA</td>\n",
       "      <td>KOJA</td>\n",
       "    </tr>\n",
       "    <tr>\n",
       "      <th>3</th>\n",
       "      <td>KP PEDONGKELAN NO 0, CILINCING</td>\n",
       "      <td>CILINCING</td>\n",
       "    </tr>\n",
       "    <tr>\n",
       "      <th>4</th>\n",
       "      <td>JL DELI LORONG NO 4, KOJA</td>\n",
       "      <td>KOJA</td>\n",
       "    </tr>\n",
       "    <tr>\n",
       "      <th>...</th>\n",
       "      <td>...</td>\n",
       "      <td>...</td>\n",
       "    </tr>\n",
       "    <tr>\n",
       "      <th>8872</th>\n",
       "      <td>LORONG O PETAK BLOK --- KAV --- NO 26 RT  006 ...</td>\n",
       "      <td>KOJA</td>\n",
       "    </tr>\n",
       "    <tr>\n",
       "      <th>8873</th>\n",
       "      <td>JL PEMBANGUNAN III/19 RT  007 RW  009</td>\n",
       "      <td>RAWA BADAK UTARA</td>\n",
       "    </tr>\n",
       "    <tr>\n",
       "      <th>8874</th>\n",
       "      <td>JL  F GANG K NO 11 RT  009 RW  002</td>\n",
       "      <td>RAWA BADAK UTARA</td>\n",
       "    </tr>\n",
       "    <tr>\n",
       "      <th>8875</th>\n",
       "      <td>PLUMPANG B RT  07 RW  05</td>\n",
       "      <td>RAWA BADAK UTARA</td>\n",
       "    </tr>\n",
       "    <tr>\n",
       "      <th>8876</th>\n",
       "      <td>JL  PLUMPANG SEMPER</td>\n",
       "      <td>RAWA BADAK SELATAN</td>\n",
       "    </tr>\n",
       "  </tbody>\n",
       "</table>\n",
       "<p>8877 rows × 2 columns</p>\n",
       "</div>"
      ],
      "text/plain": [
       "                                                 Alamat           Kelurahan\n",
       "0                           JL CIPEUCANG IV NO 31, KOJA                KOJA\n",
       "1                           KESATRIAN NO  10, CILINCING           CILINCING\n",
       "2                          LORONG BLOK II G NO 19, KOJA                KOJA\n",
       "3                        KP PEDONGKELAN NO 0, CILINCING           CILINCING\n",
       "4                             JL DELI LORONG NO 4, KOJA                KOJA\n",
       "...                                                 ...                 ...\n",
       "8872  LORONG O PETAK BLOK --- KAV --- NO 26 RT  006 ...                KOJA\n",
       "8873              JL PEMBANGUNAN III/19 RT  007 RW  009    RAWA BADAK UTARA\n",
       "8874                 JL  F GANG K NO 11 RT  009 RW  002    RAWA BADAK UTARA\n",
       "8875                           PLUMPANG B RT  07 RW  05    RAWA BADAK UTARA\n",
       "8876                                JL  PLUMPANG SEMPER  RAWA BADAK SELATAN\n",
       "\n",
       "[8877 rows x 2 columns]"
      ]
     },
     "execution_count": 46,
     "metadata": {},
     "output_type": "execute_result"
    }
   ],
   "source": [
    "pd.DataFrame({'Alamat': address, 'Kelurahan':preds})"
   ]
  },
  {
   "cell_type": "code",
   "execution_count": null,
   "id": "9f7713a1",
   "metadata": {},
   "outputs": [],
   "source": []
  }
 ],
 "metadata": {
  "kernelspec": {
   "display_name": "Python 3 (ipykernel)",
   "language": "python",
   "name": "python3"
  },
  "language_info": {
   "codemirror_mode": {
    "name": "ipython",
    "version": 3
   },
   "file_extension": ".py",
   "mimetype": "text/x-python",
   "name": "python",
   "nbconvert_exporter": "python",
   "pygments_lexer": "ipython3",
   "version": "3.9.7"
  }
 },
 "nbformat": 4,
 "nbformat_minor": 5
}
